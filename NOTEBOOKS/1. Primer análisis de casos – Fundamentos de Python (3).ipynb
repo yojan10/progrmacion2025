{
 "cells": [
  {
   "cell_type": "markdown",
   "metadata": {
    "id": "q7R3dARlFtDY"
   },
   "source": [
    "# Primer análisis de casos – Fundamentos de Python\n",
    "\n",
    "## Objetivo:\n",
    "En esta tarea, practicaremos los fundamentos básicos de Python resolviendo **cuatro ejercicios** de la lista planteada. Cada solución debe detallar **entradas**, **procesos** y **salidas** para comprender mejor cómo funciona cada problema.\n",
    "\n",
    "### Formato para cada ejercicio (seleccionemos 4 ejercicios):\n",
    "#### Ejercicio X:\n",
    "- **Descripción del problema:** Incluiremos el enunciado del ejercicio.\n",
    "- **Entradas:** Detallaremos los datos que debemos ingresar.\n",
    "- **Proceso:** Explicaremos cómo resolveremos el problema (algoritmo o fórmula).\n",
    "- **Salidas:** Describiremos el resultado que veremos en pantalla al final del proceso.\n",
    "\n",
    "#### Código del ejercicio:\n",
    "- Escribiremos la solución del ejercicio en una celda de código Python.\n",
    "- Agregaremos comentarios para explicar el código y hacerlo más comprensible.\n",
    "\n",
    "### Conclusión:\n",
    "- Al final, resumiremos lo que hemos aprendido resolviendo los ejercicios.\n",
    "- Reflexionaremos sobre cómo Python nos ayuda a solucionar problemas cotidianos.\n",
    "\n",
    "## Formato de entrega del informe en PDF:\n",
    "\n",
    "Debemos exportar nuestro notebook de Jupyter a formato PDF, cumpliendo con las siguientes pautas:\n",
    "\n",
    "### Portada:\n",
    "- Título: \"Primer análisis de casos – Fundamentos de Python\".\n",
    "- Nuestro nombre completo.\n",
    "- Fecha de entrega.\n",
    "- Curso.\n",
    "\n",
    "### Cuerpo del informe:\n",
    "- **Introducción:** Explicaremos brevemente los ejercicios que hemos seleccionado.\n",
    "- **Desarrollo de cada ejercicio:**\n",
    "  - Descripción del problema.\n",
    "  - Entradas, procesos y salidas detallados.\n",
    "  - Capturas de pantalla del código y del resultado de la ejecución.\n",
    "\n",
    "### Conclusión:\n",
    "- Reflexionaremos sobre el aprendizaje y las posibles dificultades que enfrentamos durante la resolución de los ejercicios.\n",
    "\n",
    "## Lista de ejercicios (Seleccionemos 4):\n",
    "\n",
    "1. Calcular el área de un triángulo a partir de la base y altura ingresadas.\n",
    "2. Convertir una cantidad de dólares a colones.\n",
    "3. Convertir grados centígrados a Fahrenheit.\n",
    "4. Mostrar cuántos segundos tiene un lustro.\n",
    "5. Calcular el tiempo que le toma a la luz viajar del sol a Marte.\n",
    "6. Calcular cuántas vueltas da una llanta en 1 km.\n",
    "7. Calcular la longitud de la sombra de un edificio de 20 metros.\n",
    "8. Comparar si la edad ingresada por dos usuarios es la misma.\n",
    "9. Calcular cuántos meses han transcurrido desde nuestra fecha de nacimiento.\n",
    "10. Calcular el promedio de un alumno en 5 materias.\n",
    "\n",
    "## Proceso de entrega:\n",
    "1. Resolveremos 4 de los ejercicios propuestos en un notebook de.\n",
    "2. Exportaremos el notebook a PDF siguiendo el formato establecido.\n",
    "3. Subiremos el PDF y el archivo de notebook (.ipynb) a la plataforma antes de la fecha límite.\n"
   ]
  },
  {
   "cell_type": "markdown",
   "metadata": {},
   "source": [
    "# Problema #1\n",
    "\n",
    "### Convertir una cantidad de dólares a colones.\n",
    "\n",
    "## Entrada: \n",
    "Leer La cantidad de dolares\n",
    "Leer tipo cambio\n",
    "\n",
    "## Proceso:\n",
    "\n",
    "cantidad_dolares * tipo_cambio\n",
    "\n",
    "## Salida:\n",
    "\n",
    "resultado de la multiplicacion"
   ]
  },
  {
   "cell_type": "code",
   "execution_count": 3,
   "metadata": {
    "colab": {
     "base_uri": "https://localhost:8080/"
    },
    "executionInfo": {
     "elapsed": 10485,
     "status": "ok",
     "timestamp": 1712064323417,
     "user": {
      "displayName": "Andrés Mena Abarca",
      "userId": "07418092259593836578"
     },
     "user_tz": 360
    },
    "id": "n3rOsUESDeTs",
    "outputId": "1cd40ed7-f1d2-4b89-bca5-696418df0021"
   },
   "outputs": [
    {
     "name": "stdout",
     "output_type": "stream",
     "text": [
      "Calcular cuantas vueltas da una llanta en 1km\n",
      "La llanta da 3333.3333333333335 vueltas en 1km\n"
     ]
    }
   ],
   "source": [
    "#Calcular cuantas vueltas da una llante en 1km\n",
    "\n",
    "#ENTRADA\n",
    "print(\"Calcular cuantas vueltas da una llanta en 1km\")\n",
    "tamano = float(input(\"Ingrese el tamaño de la llanta en cm: \"))\n",
    "\n",
    "\n",
    "#PROCESO\n",
    "# 1km = 1000m = 100000cm\n",
    "vuetas = 100000 / tamano\n",
    "\n",
    "#SALIDA\n",
    "print(\"La llanta da\", vuetas, \"vueltas en 1km\")\n"
   ]
  },
  {
   "cell_type": "markdown",
   "metadata": {},
   "source": [
    "# Problema #2\n",
    "\n",
    "### Definir problema\n",
    "\n",
    "## Entrada:\n",
    "\n",
    "## Proceso:\n",
    "\n",
    "## Salida:"
   ]
  },
  {
   "cell_type": "code",
   "execution_count": 7,
   "metadata": {},
   "outputs": [
    {
     "name": "stdout",
     "output_type": "stream",
     "text": [
      "Calcular cuántos meses han transcurrido desde nuestra fecha de nacimiento\n",
      "Ingrese su fecha de nacimiento\n",
      "fecha de nacimiento = 26/04/2009\n",
      "mes = 30 dias \n",
      "año = 12 meses\n",
      "2025 - 2009 = 16 años\n",
      "=16 años * 12 meses = 192 meses\n"
     ]
    }
   ],
   "source": [
    "# . Calcular cuántos meses han transcurrido desde nuestra fecha de nacimiento.\n",
    "#ENTRADA\n",
    "print(\"Calcular cuántos meses han transcurrido desde nuestra fecha de nacimiento\")\n",
    "print(\"Ingrese su fecha de nacimiento\")\n",
    "print(\"fecha de nacimiento = 26/04/2009\")\n",
    "print(\"mes = 30 dias \")\n",
    "print(\"año = 12 meses\")\n",
    " \n",
    "#PROCESO\n",
    "# 1 año = 12 meses\n",
    "# 1 mes = 30 días   \n",
    "#sumar cuantos meses hay de 2009 a 2025\n",
    " \n",
    " #salida\n",
    "print (\"2025 - 2009 = 16 años\")\n",
    "print (\"=16 años * 12 meses = 192 meses\")"
   ]
  },
  {
   "cell_type": "code",
   "execution_count": null,
   "metadata": {},
   "outputs": [],
   "source": []
  },
  {
   "cell_type": "markdown",
   "metadata": {},
   "source": [
    "# Problema #3\n",
    "\n",
    "### Definir problema\n",
    "\n",
    "## Entrada:\n",
    "\n",
    "## Proceso:\n",
    "\n",
    "## Salida:"
   ]
  },
  {
   "cell_type": "code",
   "execution_count": null,
   "metadata": {},
   "outputs": [
    {
     "name": "stdout",
     "output_type": "stream",
     "text": [
      "ingrese la cantidad de dolares\n",
      "1 dolar = 508 colones\n",
      "500 dolares * 508 colones\n",
      "el cambio es de: 500\n"
     ]
    }
   ],
   "source": [
    "#  Convertir una cantidad de dólares a colones\n",
    "\n",
    "#ENTRADA\n",
    "\n",
    "int(\"ingrese la cantidad de dolares\")\n",
    "print(\"1 dolar = 508 colones\")  \n",
    "\n",
    "#proceso \n",
    "\n",
    "cambio = int(input(\"500 dolares * 508 colones\"))\n",
    "\n",
    "#salida \n",
    "\n",
    "print('500 dolares * 508 colones')\n",
    "print('el cambio es de:', cambio)"
   ]
  },
  {
   "cell_type": "markdown",
   "metadata": {},
   "source": [
    "# Problema #4\n",
    "\n",
    "### Definir problema\n",
    "\n",
    "## Entrada:\n",
    "\n",
    "## Proceso:\n",
    "\n",
    "## Salida:"
   ]
  },
  {
   "cell_type": "code",
   "execution_count": 13,
   "metadata": {},
   "outputs": [
    {
     "name": "stdout",
     "output_type": "stream",
     "text": [
      "Comparar si la edad ingresada por dos usuarios es la misma\n",
      "Ingrese su edad\n",
      "edad1 = 19\n",
      "edad2 = 18\n",
      "Las edades no son iguales\n"
     ]
    }
   ],
   "source": [
    "# Código8. Comparar si la edad ingresada por dos usuarios es la misma\n",
    " #ENTRADA\n",
    "print(\"Comparar si la edad ingresada por dos usuarios es la misma\")\n",
    "print(\"Ingrese su edad\")\n",
    "edad1 = int(input(\"Ingrese la edad del primer usuario: \"))\n",
    "print(\"edad1 = 19\")\n",
    "\n",
    "edad2 = int(input(\"Ingrese la edad del segundo usuario: \")) \n",
    "print(\"edad2 = 18\")\n",
    "#PROCESO\n",
    "print(\"Las edades no son iguales\") \n"
   ]
  }
 ],
 "metadata": {
  "colab": {
   "provenance": []
  },
  "kernelspec": {
   "display_name": "Python 3",
   "name": "python3"
  },
  "language_info": {
   "codemirror_mode": {
    "name": "ipython",
    "version": 3
   },
   "file_extension": ".py",
   "mimetype": "text/x-python",
   "name": "python",
   "nbconvert_exporter": "python",
   "pygments_lexer": "ipython3",
   "version": "3.13.3"
  }
 },
 "nbformat": 4,
 "nbformat_minor": 0
}
